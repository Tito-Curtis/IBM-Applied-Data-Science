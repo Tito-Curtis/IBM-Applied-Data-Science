{
 "cells": [
  {
   "cell_type": "markdown",
   "id": "85cc9128-6d61-496c-98fa-ed4477d18c6a",
   "metadata": {},
   "source": [
    "### Introduction to python"
   ]
  },
  {
   "cell_type": "code",
   "execution_count": 6,
   "id": "d9579f4b-5712-41f5-a85b-62ffe360a36f",
   "metadata": {},
   "outputs": [
    {
     "name": "stdout",
     "output_type": "stream",
     "text": [
      "hello, world\n"
     ]
    }
   ],
   "source": [
    "print(\"hello, world\")"
   ]
  },
  {
   "cell_type": "code",
   "execution_count": 10,
   "id": "2d9a365f-ca69-449d-a107-5b89ba2b3f31",
   "metadata": {},
   "outputs": [],
   "source": [
    "'''name = \"Engineer\"\n",
    "age = 5\n",
    "x = 5'''"
   ]
  },
  {
   "cell_type": "code",
   "execution_count": 12,
   "id": "5dc1587c-3d33-45a9-b826-949e1f76dd90",
   "metadata": {},
   "outputs": [
    {
     "data": {
      "text/plain": [
       "str"
      ]
     },
     "execution_count": 12,
     "metadata": {},
     "output_type": "execute_result"
    }
   ],
   "source": [
    "type(name) # this displays the data type of the variable"
   ]
  },
  {
   "cell_type": "code",
   "execution_count": null,
   "id": "fce6b303-129a-44b0-b5e3-91ad5d615eea",
   "metadata": {},
   "outputs": [],
   "source": [
    "credit_card = \"41010031071\""
   ]
  },
  {
   "cell_type": "code",
   "execution_count": null,
   "id": "9d1a9a37-126f-432b-8aea-48f78e5a4d84",
   "metadata": {},
   "outputs": [],
   "source": [
    "ages = [24,34,56,78]"
   ]
  },
  {
   "cell_type": "code",
   "execution_count": 14,
   "id": "0d0b4396-5700-4a20-8732-c60efb82342c",
   "metadata": {},
   "outputs": [
    {
     "ename": "SyntaxError",
     "evalue": "invalid syntax (611254852.py, line 1)",
     "output_type": "error",
     "traceback": [
      "\u001b[1;36m  Cell \u001b[1;32mIn[14], line 1\u001b[1;36m\u001b[0m\n\u001b[1;33m    first name =\"Joe\"\u001b[0m\n\u001b[1;37m          ^\u001b[0m\n\u001b[1;31mSyntaxError\u001b[0m\u001b[1;31m:\u001b[0m invalid syntax\n"
     ]
    }
   ],
   "source": [
    "first_name_haf_ =\"Joe\""
   ]
  },
  {
   "cell_type": "code",
   "execution_count": 16,
   "id": "f8be9bd9-e126-4e99-9224-5b89680792b8",
   "metadata": {},
   "outputs": [],
   "source": [
    "name = 'Joe'"
   ]
  },
  {
   "cell_type": "code",
   "execution_count": 20,
   "id": "2479c627-12cb-4c03-bb95-308e80297b1b",
   "metadata": {},
   "outputs": [
    {
     "name": "stdout",
     "output_type": "stream",
     "text": [
      "Joe\n"
     ]
    }
   ],
   "source": [
    "print(name)"
   ]
  },
  {
   "cell_type": "code",
   "execution_count": null,
   "id": "b52b26ae-fac7-4959-aa55-36deac66a9b6",
   "metadata": {},
   "outputs": [],
   "source": [
    "#first name,last name, age, "
   ]
  },
  {
   "cell_type": "code",
   "execution_count": 32,
   "id": "6c78ed23-b1c4-4cd9-9927-0590436ff6df",
   "metadata": {},
   "outputs": [],
   "source": [
    "first_name = \"Samuel\"\n",
    "last_name = \"Appiah\"\n",
    "age = 20"
   ]
  },
  {
   "cell_type": "code",
   "execution_count": 34,
   "id": "5be12cf0-3a1c-49d8-8bd3-f867d3ccef0b",
   "metadata": {},
   "outputs": [
    {
     "name": "stdout",
     "output_type": "stream",
     "text": [
      "My name is Samuel Appiah\n"
     ]
    }
   ],
   "source": [
    "print(\"My name is \"+first_name+\" \"+last_name)"
   ]
  },
  {
   "cell_type": "code",
   "execution_count": 33,
   "id": "a094cfe6-bf62-48d9-99b7-94dc4d99c106",
   "metadata": {},
   "outputs": [
    {
     "data": {
      "text/plain": [
       "'My name is Samuel '"
      ]
     },
     "execution_count": 33,
     "metadata": {},
     "output_type": "execute_result"
    }
   ],
   "source": [
    "f\"My name is {first_name} \""
   ]
  },
  {
   "cell_type": "code",
   "execution_count": 26,
   "id": "404da180-2247-4575-8078-86bcc9d3ce79",
   "metadata": {},
   "outputs": [
    {
     "name": "stdout",
     "output_type": "stream",
     "text": [
      "Baidoo\n"
     ]
    }
   ],
   "source": [
    "print(last_name)"
   ]
  },
  {
   "cell_type": "markdown",
   "id": "05dc1729-a70a-4caa-a796-d268e273ba40",
   "metadata": {},
   "source": [
    "## Operators"
   ]
  },
  {
   "cell_type": "code",
   "execution_count": 51,
   "id": "d6f8806e-82e7-42c2-adfe-4fb5bee190cf",
   "metadata": {},
   "outputs": [
    {
     "name": "stdout",
     "output_type": "stream",
     "text": [
      "0\n"
     ]
    }
   ],
   "source": [
    "print(10%2)"
   ]
  },
  {
   "cell_type": "code",
   "execution_count": 53,
   "id": "6aefeccd-aa74-423a-b9c3-d9807ba98870",
   "metadata": {},
   "outputs": [],
   "source": [
    "current = 15\n",
    "resistance =10"
   ]
  },
  {
   "cell_type": "code",
   "execution_count": 55,
   "id": "a61f323b-86ec-4387-a9fa-5eecc96018ad",
   "metadata": {},
   "outputs": [],
   "source": [
    "voltage = current * resistance"
   ]
  },
  {
   "cell_type": "code",
   "execution_count": 71,
   "id": "0612e872-af55-4b80-b5b0-6f5cb6603705",
   "metadata": {},
   "outputs": [
    {
     "name": "stdout",
     "output_type": "stream",
     "text": [
      "voltage is 150 volt\n"
     ]
    }
   ],
   "source": [
    "print(\"voltage is \"+ str(voltage) + \" volt\")"
   ]
  },
  {
   "cell_type": "markdown",
   "id": "9cb90364-c276-4385-bb16-57000108f006",
   "metadata": {},
   "source": [
    "#### user Input"
   ]
  },
  {
   "cell_type": "code",
   "execution_count": null,
   "id": "83e53d3a-ce46-4c49-b6a8-6f4c324a6055",
   "metadata": {},
   "outputs": [],
   "source": [
    "input(\"Enter your name)"
   ]
  },
  {
   "cell_type": "code",
   "execution_count": 3,
   "id": "7cd11dc8-171f-419c-aff8-69767f69904a",
   "metadata": {},
   "outputs": [
    {
     "name": "stdin",
     "output_type": "stream",
     "text": [
      "Enter your name Curtis\n"
     ]
    },
    {
     "name": "stdout",
     "output_type": "stream",
     "text": [
      "Curtis\n"
     ]
    }
   ],
   "source": [
    "print(input(\"Enter your name\"))"
   ]
  },
  {
   "cell_type": "code",
   "execution_count": null,
   "id": "fc33d666-0b9c-41b7-aa3e-f40bd256c4fb",
   "metadata": {},
   "outputs": [],
   "source": [
    "first_name = \"Samuel\"\n",
    "last_name = \"Appiah\"\n",
    "age = 20"
   ]
  },
  {
   "cell_type": "code",
   "execution_count": 11,
   "id": "fee2cc45-19bb-4fb6-8f8a-1e897c62abf2",
   "metadata": {},
   "outputs": [
    {
     "name": "stdin",
     "output_type": "stream",
     "text": [
      "Enter your first Name  Samuel\n"
     ]
    },
    {
     "name": "stdout",
     "output_type": "stream",
     "text": [
      "Samuel\n"
     ]
    }
   ],
   "source": [
    "first_name = input(\"Enter your first Name \")\n",
    "print(first_name)"
   ]
  },
  {
   "cell_type": "code",
   "execution_count": null,
   "id": "706127f7-e707-4c97-ad01-806b46cf6072",
   "metadata": {},
   "outputs": [],
   "source": [
    "# Name, age and favorite color"
   ]
  },
  {
   "cell_type": "code",
   "execution_count": 25,
   "id": "5ffea23b-8889-49f3-856e-a42fe6f5434a",
   "metadata": {},
   "outputs": [
    {
     "name": "stdin",
     "output_type": "stream",
     "text": [
      " What is your name  \n",
      "How old are you  d\n",
      "Enter your department d\n"
     ]
    }
   ],
   "source": [
    "name = input(\" What is your name \")\n",
    "age = int(input(\"How old are you \"))\n",
    "department = input(\"Enter your department\")\n"
   ]
  },
  {
   "cell_type": "code",
   "execution_count": 19,
   "id": "d0e2a984-a838-44a7-bae3-4092cd31a6e1",
   "metadata": {},
   "outputs": [
    {
     "name": "stdout",
     "output_type": "stream",
     "text": [
      "My name is Michael Mensah. I am 34 years old. My favorite color is Blue\n"
     ]
    }
   ],
   "source": [
    "print(\"My name is \"+name+\". I am \"+age+\" years old.\"+\" My favorite color is \"+color)"
   ]
  },
  {
   "cell_type": "code",
   "execution_count": 31,
   "id": "01e6c9ff-b082-4105-8a40-28eadb9019b3",
   "metadata": {},
   "outputs": [
    {
     "data": {
      "text/plain": [
       "False"
      ]
     },
     "execution_count": 31,
     "metadata": {},
     "output_type": "execute_result"
    }
   ],
   "source": [
    "2>2"
   ]
  },
  {
   "cell_type": "code",
   "execution_count": 63,
   "id": "ad5f34ac-994a-4816-b184-929d0d3a060c",
   "metadata": {},
   "outputs": [
    {
     "name": "stdin",
     "output_type": "stream",
     "text": [
      "Enter your score 16\n"
     ]
    },
    {
     "name": "stdout",
     "output_type": "stream",
     "text": [
      "You need to resit\n"
     ]
    }
   ],
   "source": [
    "score = float(input(\"Enter your score\"))\n",
    "if score >= 50:\n",
    "    print(\"You passed\")\n",
    "elif score > 15 and score<30:\n",
    "    print(\"You need to resit\")\n",
    "else:\n",
    "    print(\"You failled!!!!\")\n",
    "    \n",
    "    "
   ]
  },
  {
   "cell_type": "code",
   "execution_count": 43,
   "id": "93046c1c-129a-41cb-8a6a-4ddf2926963e",
   "metadata": {},
   "outputs": [
    {
     "name": "stdin",
     "output_type": "stream",
     "text": [
      "enter a number:  2\n"
     ]
    },
    {
     "name": "stdout",
     "output_type": "stream",
     "text": [
      "yes\n"
     ]
    }
   ],
   "source": [
    "number = int(input(\"enter a number: \"))\n",
    "if number ==2:\n",
    "    print(\"yes\")"
   ]
  },
  {
   "cell_type": "code",
   "execution_count": 45,
   "id": "702bb3ab-d21a-47ff-9e2b-64de9fe98b7b",
   "metadata": {},
   "outputs": [
    {
     "ename": "SyntaxError",
     "evalue": "cannot assign to expression here. Maybe you meant '==' instead of '='? (78355756.py, line 1)",
     "output_type": "error",
     "traceback": [
      "\u001b[1;36m  Cell \u001b[1;32mIn[45], line 1\u001b[1;36m\u001b[0m\n\u001b[1;33m    2+3 = 5\u001b[0m\n\u001b[1;37m    ^\u001b[0m\n\u001b[1;31mSyntaxError\u001b[0m\u001b[1;31m:\u001b[0m cannot assign to expression here. Maybe you meant '==' instead of '='?\n"
     ]
    }
   ],
   "source": [
    "2+3 = 5"
   ]
  },
  {
   "cell_type": "code",
   "execution_count": 47,
   "id": "1d65a0f9-0cb8-4baf-a308-a0768dbf7da4",
   "metadata": {},
   "outputs": [],
   "source": [
    "import math"
   ]
  },
  {
   "cell_type": "code",
   "execution_count": null,
   "id": "81ce7b24-c07b-452b-a421-fb8ba6c80aee",
   "metadata": {},
   "outputs": [],
   "source": [
    "x = (-b + math.sqrt(math.exp(b,2) - 4*a*c))/2 *a\n",
    "# bodmas, pemdas"
   ]
  },
  {
   "cell_type": "code",
   "execution_count": 51,
   "id": "95efe78a-e341-436d-92eb-73c720e12646",
   "metadata": {},
   "outputs": [
    {
     "data": {
      "text/plain": [
       "-2.0"
      ]
     },
     "execution_count": 51,
     "metadata": {},
     "output_type": "execute_result"
    }
   ],
   "source": [
    "4-2*6/2"
   ]
  },
  {
   "cell_type": "code",
   "execution_count": null,
   "id": "9ecbbaab-a340-4fc7-9b98-c44ff8244054",
   "metadata": {},
   "outputs": [],
   "source": []
  }
 ],
 "metadata": {
  "kernelspec": {
   "display_name": "Python 3 (ipykernel)",
   "language": "python",
   "name": "python3"
  },
  "language_info": {
   "codemirror_mode": {
    "name": "ipython",
    "version": 3
   },
   "file_extension": ".py",
   "mimetype": "text/x-python",
   "name": "python",
   "nbconvert_exporter": "python",
   "pygments_lexer": "ipython3",
   "version": "3.12.7"
  }
 },
 "nbformat": 4,
 "nbformat_minor": 5
}
